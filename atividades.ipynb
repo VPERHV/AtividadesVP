{
 "cells": [
  {
   "cell_type": "code",
   "execution_count": 35,
   "id": "31ac8727",
   "metadata": {},
   "outputs": [],
   "source": [
    "import pandas as pd\n",
    "import plotly.graph_objects as go"
   ]
  },
  {
   "cell_type": "code",
   "execution_count": 36,
   "id": "74011d74",
   "metadata": {},
   "outputs": [],
   "source": [
    "workshops = {'Leilão de Reserva de Capacidade':{'data':'17/01/2025', \n",
    "                                                                                                            'resp':'David'},\n",
    "             'Procedimentos de rede e Lei 10.848':{'data':'18/07/2025',\n",
    "                                                   'resp':'David'},\n",
    "             'Financiamento Verde aplicadas ao setor de hidrogenio e energias renováveis':{'data':'15/08/2025',\n",
    "                                                                                           'resp':'Kárita'},\n",
    "             'IA aplicada as energias renováveis e hidrogenio verde':{'data':'19/09/2025',\n",
    "                                                                      'resp':'João Pedro'},\n",
    "             'Mercado de SAF e NAF':{'data':'17/10/2025',\n",
    "                                     'resp':'André'},\n",
    "             'Eletrolisadores':{'data':'14/11/2025',\n",
    "                                'resp':'André'}                                                                                                                                                                                             \n",
    "            }"
   ]
  },
  {
   "cell_type": "code",
   "execution_count": 37,
   "id": "b38316c8",
   "metadata": {},
   "outputs": [],
   "source": [
    "projetos_consultorias = {'Mercados internos de hidrogênio e colaborações Brasil-Alentejo':{'resp':'H2Talent'},\n",
    "                'Projeto Membranas':{'resp':'H2Talent'},\n",
    "                'Vale do Hidrogênio Verde do Piauí':{'resp':'Engie'},\n",
    "                'Câmara Setorial de Energias Renováveis':{'resp':'CERNE'},\n",
    "                'Auxílio aos Municípios':{'resp':'CERNE'},\n",
    "                'Auxílio no projeto Atlas':{'resp':'CERNE'}\n",
    "                }"
   ]
  },
  {
   "cell_type": "code",
   "execution_count": 38,
   "id": "2105d8e6",
   "metadata": {},
   "outputs": [],
   "source": [
    "cashcalls = {'Acompanhamento do processo de chamadas de capital e e cronograma de desembolso da NEBRA':{'resp':'Juliane'}}"
   ]
  },
  {
   "cell_type": "code",
   "execution_count": 39,
   "id": "a93fe656",
   "metadata": {},
   "outputs": [],
   "source": [
    "planos_de_negocio = {'Atlas da Transição Energética do Piauí':{'resp':'Juliane'},\n",
    "                     '1ª Molécula de H2V do Piauí':{'resp':'André'},\n",
    "                     'Atração de BESS e Off Grid para o Estado do Piauí':{'resp':'David'}}"
   ]
  },
  {
   "cell_type": "code",
   "execution_count": 40,
   "id": "df90b18a",
   "metadata": {},
   "outputs": [],
   "source": [
    "agentes_IA = {'Mark':{'desc':'Agente de IA consultor de Reuniões',\n",
    "                      'resp':'João Pedro'},\n",
    "              'Helly':{'desc':'Agente de IA consultor de Empresas e auxiliar de Softlanding',\n",
    "                       'resp':'João Pedro'},\n",
    "              'Erhving':{'desc':'Agente de IA auxiliar de notícias de interesse da VPERHV',\n",
    "                         'resp':'João Pedro'}}"
   ]
  },
  {
   "cell_type": "code",
   "execution_count": 41,
   "id": "fe52b9d7",
   "metadata": {},
   "outputs": [],
   "source": [
    "eventos = {'1º Esquenta (UESPI)':{'data':'30/04/2025',\n",
    "                                 'local':'Teresina - PI'},\n",
    "           '2º Esquenta (UFPI)':{'data':'07/05/2025',\n",
    "                                 'local':'Bom Jesus - PI'},\n",
    "           '3º Esquenta (UFDPar)':{'data':'16/05/2025',\n",
    "                                 'local':'Parnaíba - PI'},\n",
    "           '4º Esquenta (IFPI)':{'data':'30/05',\n",
    "                                 'local':'São João do Piauí - PI'}\n",
    "                                 }"
   ]
  },
  {
   "cell_type": "code",
   "execution_count": 43,
   "id": "a8820df4",
   "metadata": {},
   "outputs": [
    {
     "data": {
      "application/vnd.plotly.v1+json": {
       "config": {
        "plotlyServerURL": "https://plot.ly"
       },
       "data": [
        {
         "hoverinfo": "text",
         "hovertext": [
          "<b>Workshops</b><br>• Leilão de Reserva de Capacidade<br>&nbsp;&nbsp;&nbsp;&nbsp;- Data: 17/01/2025<br>&nbsp;&nbsp;&nbsp;&nbsp;- Responsável: David<br>• Procedimentos de rede e Lei 10.848<br>&nbsp;&nbsp;&nbsp;&nbsp;- Data: 18/07/2025<br>&nbsp;&nbsp;&nbsp;&nbsp;- Responsável: David<br>• Financiamento Verde aplicadas ao setor de hidrogenio e energias renováveis<br>&nbsp;&nbsp;&nbsp;&nbsp;- Data: 15/08/2025<br>&nbsp;&nbsp;&nbsp;&nbsp;- Responsável: Kárita<br>• IA aplicada as energias renováveis e hidrogenio verde<br>&nbsp;&nbsp;&nbsp;&nbsp;- Data: 19/09/2025<br>&nbsp;&nbsp;&nbsp;&nbsp;- Responsável: João Pedro<br>• Mercado de SAF e NAF<br>&nbsp;&nbsp;&nbsp;&nbsp;- Data: 17/10/2025<br>&nbsp;&nbsp;&nbsp;&nbsp;- Responsável: André<br>• Eletrolisadores<br>&nbsp;&nbsp;&nbsp;&nbsp;- Data: 14/11/2025<br>&nbsp;&nbsp;&nbsp;&nbsp;- Responsável: André<br>",
          "<b>Projetos e Consultorias</b><br>• Mercados internos de hidrogênio e colaborações Brasil-Alentejo<br>&nbsp;&nbsp;&nbsp;&nbsp;- Responsável: H2Talent<br>• Projeto Membranas<br>&nbsp;&nbsp;&nbsp;&nbsp;- Responsável: H2Talent<br>• Vale do Hidrogênio Verde do Piauí<br>&nbsp;&nbsp;&nbsp;&nbsp;- Responsável: Engie<br>• Câmara Setorial de Energias Renováveis<br>&nbsp;&nbsp;&nbsp;&nbsp;- Responsável: CERNE<br>• Auxílio aos Municípios<br>&nbsp;&nbsp;&nbsp;&nbsp;- Responsável: CERNE<br>• Auxílio no projeto Atlas<br>&nbsp;&nbsp;&nbsp;&nbsp;- Responsável: CERNE<br>",
          "<b>Chamadas de Capital</b><br>• Acompanhamento do processo de chamadas de capital e e cronograma de desembolso da NEBRA<br>&nbsp;&nbsp;&nbsp;&nbsp;- Responsável: Juliane<br>",
          "<b>Planos de Negócio</b><br>• Atlas da Transição Energética do Piauí<br>&nbsp;&nbsp;&nbsp;&nbsp;- Responsável: Juliane<br>• 1ª Molécula de H2V do Piauí<br>&nbsp;&nbsp;&nbsp;&nbsp;- Responsável: André<br>• Atração de BESS e Off Grid para o Estado do Piauí<br>&nbsp;&nbsp;&nbsp;&nbsp;- Responsável: David<br>",
          "<b>Agentes de IA</b><br>• Mark<br>&nbsp;&nbsp;&nbsp;&nbsp;- Descrição: Agente de IA consultor de Reuniões<br>&nbsp;&nbsp;&nbsp;&nbsp;- Responsável: João Pedro<br>• Helly<br>&nbsp;&nbsp;&nbsp;&nbsp;- Descrição: Agente de IA consultor de Empresas e auxiliar de Softlanding<br>&nbsp;&nbsp;&nbsp;&nbsp;- Responsável: João Pedro<br>• Erhving<br>&nbsp;&nbsp;&nbsp;&nbsp;- Descrição: Agente de IA auxiliar de notícias de interesse da VPERHV<br>&nbsp;&nbsp;&nbsp;&nbsp;- Responsável: João Pedro<br>",
          "<b>Eventos</b><br>• 1º Esquenta (UESPI)<br>&nbsp;&nbsp;&nbsp;&nbsp;- Data: 30/04/2025<br>&nbsp;&nbsp;&nbsp;&nbsp;- Local: Teresina - PI<br>• 2º Esquenta (UFPI)<br>&nbsp;&nbsp;&nbsp;&nbsp;- Data: 07/05/2025<br>&nbsp;&nbsp;&nbsp;&nbsp;- Local: Bom Jesus - PI<br>• 3º Esquenta (UFDPar)<br>&nbsp;&nbsp;&nbsp;&nbsp;- Data: 16/05/2025<br>&nbsp;&nbsp;&nbsp;&nbsp;- Local: Parnaíba - PI<br>• 4º Esquenta (IFPI)<br>&nbsp;&nbsp;&nbsp;&nbsp;- Data: 30/05<br>&nbsp;&nbsp;&nbsp;&nbsp;- Local: São João do Piauí - PI<br>"
         ],
         "insidetextorientation": "radial",
         "labels": [
          "Workshops",
          "Projetos e Consultorias",
          "Chamadas de Capital",
          "Planos de Negócio",
          "Agentes de IA",
          "Eventos"
         ],
         "marker": {
          "line": {
           "color": "#000000",
           "width": 1
          }
         },
         "textinfo": "label+percent",
         "type": "pie",
         "values": [
          6,
          6,
          1,
          3,
          3,
          4
         ]
        }
       ],
       "layout": {
        "height": 600,
        "template": {
         "data": {
          "bar": [
           {
            "error_x": {
             "color": "#2a3f5f"
            },
            "error_y": {
             "color": "#2a3f5f"
            },
            "marker": {
             "line": {
              "color": "#E5ECF6",
              "width": 0.5
             },
             "pattern": {
              "fillmode": "overlay",
              "size": 10,
              "solidity": 0.2
             }
            },
            "type": "bar"
           }
          ],
          "barpolar": [
           {
            "marker": {
             "line": {
              "color": "#E5ECF6",
              "width": 0.5
             },
             "pattern": {
              "fillmode": "overlay",
              "size": 10,
              "solidity": 0.2
             }
            },
            "type": "barpolar"
           }
          ],
          "carpet": [
           {
            "aaxis": {
             "endlinecolor": "#2a3f5f",
             "gridcolor": "white",
             "linecolor": "white",
             "minorgridcolor": "white",
             "startlinecolor": "#2a3f5f"
            },
            "baxis": {
             "endlinecolor": "#2a3f5f",
             "gridcolor": "white",
             "linecolor": "white",
             "minorgridcolor": "white",
             "startlinecolor": "#2a3f5f"
            },
            "type": "carpet"
           }
          ],
          "choropleth": [
           {
            "colorbar": {
             "outlinewidth": 0,
             "ticks": ""
            },
            "type": "choropleth"
           }
          ],
          "contour": [
           {
            "colorbar": {
             "outlinewidth": 0,
             "ticks": ""
            },
            "colorscale": [
             [
              0,
              "#0d0887"
             ],
             [
              0.1111111111111111,
              "#46039f"
             ],
             [
              0.2222222222222222,
              "#7201a8"
             ],
             [
              0.3333333333333333,
              "#9c179e"
             ],
             [
              0.4444444444444444,
              "#bd3786"
             ],
             [
              0.5555555555555556,
              "#d8576b"
             ],
             [
              0.6666666666666666,
              "#ed7953"
             ],
             [
              0.7777777777777778,
              "#fb9f3a"
             ],
             [
              0.8888888888888888,
              "#fdca26"
             ],
             [
              1,
              "#f0f921"
             ]
            ],
            "type": "contour"
           }
          ],
          "contourcarpet": [
           {
            "colorbar": {
             "outlinewidth": 0,
             "ticks": ""
            },
            "type": "contourcarpet"
           }
          ],
          "heatmap": [
           {
            "colorbar": {
             "outlinewidth": 0,
             "ticks": ""
            },
            "colorscale": [
             [
              0,
              "#0d0887"
             ],
             [
              0.1111111111111111,
              "#46039f"
             ],
             [
              0.2222222222222222,
              "#7201a8"
             ],
             [
              0.3333333333333333,
              "#9c179e"
             ],
             [
              0.4444444444444444,
              "#bd3786"
             ],
             [
              0.5555555555555556,
              "#d8576b"
             ],
             [
              0.6666666666666666,
              "#ed7953"
             ],
             [
              0.7777777777777778,
              "#fb9f3a"
             ],
             [
              0.8888888888888888,
              "#fdca26"
             ],
             [
              1,
              "#f0f921"
             ]
            ],
            "type": "heatmap"
           }
          ],
          "heatmapgl": [
           {
            "colorbar": {
             "outlinewidth": 0,
             "ticks": ""
            },
            "colorscale": [
             [
              0,
              "#0d0887"
             ],
             [
              0.1111111111111111,
              "#46039f"
             ],
             [
              0.2222222222222222,
              "#7201a8"
             ],
             [
              0.3333333333333333,
              "#9c179e"
             ],
             [
              0.4444444444444444,
              "#bd3786"
             ],
             [
              0.5555555555555556,
              "#d8576b"
             ],
             [
              0.6666666666666666,
              "#ed7953"
             ],
             [
              0.7777777777777778,
              "#fb9f3a"
             ],
             [
              0.8888888888888888,
              "#fdca26"
             ],
             [
              1,
              "#f0f921"
             ]
            ],
            "type": "heatmapgl"
           }
          ],
          "histogram": [
           {
            "marker": {
             "pattern": {
              "fillmode": "overlay",
              "size": 10,
              "solidity": 0.2
             }
            },
            "type": "histogram"
           }
          ],
          "histogram2d": [
           {
            "colorbar": {
             "outlinewidth": 0,
             "ticks": ""
            },
            "colorscale": [
             [
              0,
              "#0d0887"
             ],
             [
              0.1111111111111111,
              "#46039f"
             ],
             [
              0.2222222222222222,
              "#7201a8"
             ],
             [
              0.3333333333333333,
              "#9c179e"
             ],
             [
              0.4444444444444444,
              "#bd3786"
             ],
             [
              0.5555555555555556,
              "#d8576b"
             ],
             [
              0.6666666666666666,
              "#ed7953"
             ],
             [
              0.7777777777777778,
              "#fb9f3a"
             ],
             [
              0.8888888888888888,
              "#fdca26"
             ],
             [
              1,
              "#f0f921"
             ]
            ],
            "type": "histogram2d"
           }
          ],
          "histogram2dcontour": [
           {
            "colorbar": {
             "outlinewidth": 0,
             "ticks": ""
            },
            "colorscale": [
             [
              0,
              "#0d0887"
             ],
             [
              0.1111111111111111,
              "#46039f"
             ],
             [
              0.2222222222222222,
              "#7201a8"
             ],
             [
              0.3333333333333333,
              "#9c179e"
             ],
             [
              0.4444444444444444,
              "#bd3786"
             ],
             [
              0.5555555555555556,
              "#d8576b"
             ],
             [
              0.6666666666666666,
              "#ed7953"
             ],
             [
              0.7777777777777778,
              "#fb9f3a"
             ],
             [
              0.8888888888888888,
              "#fdca26"
             ],
             [
              1,
              "#f0f921"
             ]
            ],
            "type": "histogram2dcontour"
           }
          ],
          "mesh3d": [
           {
            "colorbar": {
             "outlinewidth": 0,
             "ticks": ""
            },
            "type": "mesh3d"
           }
          ],
          "parcoords": [
           {
            "line": {
             "colorbar": {
              "outlinewidth": 0,
              "ticks": ""
             }
            },
            "type": "parcoords"
           }
          ],
          "pie": [
           {
            "automargin": true,
            "type": "pie"
           }
          ],
          "scatter": [
           {
            "fillpattern": {
             "fillmode": "overlay",
             "size": 10,
             "solidity": 0.2
            },
            "type": "scatter"
           }
          ],
          "scatter3d": [
           {
            "line": {
             "colorbar": {
              "outlinewidth": 0,
              "ticks": ""
             }
            },
            "marker": {
             "colorbar": {
              "outlinewidth": 0,
              "ticks": ""
             }
            },
            "type": "scatter3d"
           }
          ],
          "scattercarpet": [
           {
            "marker": {
             "colorbar": {
              "outlinewidth": 0,
              "ticks": ""
             }
            },
            "type": "scattercarpet"
           }
          ],
          "scattergeo": [
           {
            "marker": {
             "colorbar": {
              "outlinewidth": 0,
              "ticks": ""
             }
            },
            "type": "scattergeo"
           }
          ],
          "scattergl": [
           {
            "marker": {
             "colorbar": {
              "outlinewidth": 0,
              "ticks": ""
             }
            },
            "type": "scattergl"
           }
          ],
          "scattermapbox": [
           {
            "marker": {
             "colorbar": {
              "outlinewidth": 0,
              "ticks": ""
             }
            },
            "type": "scattermapbox"
           }
          ],
          "scatterpolar": [
           {
            "marker": {
             "colorbar": {
              "outlinewidth": 0,
              "ticks": ""
             }
            },
            "type": "scatterpolar"
           }
          ],
          "scatterpolargl": [
           {
            "marker": {
             "colorbar": {
              "outlinewidth": 0,
              "ticks": ""
             }
            },
            "type": "scatterpolargl"
           }
          ],
          "scatterternary": [
           {
            "marker": {
             "colorbar": {
              "outlinewidth": 0,
              "ticks": ""
             }
            },
            "type": "scatterternary"
           }
          ],
          "surface": [
           {
            "colorbar": {
             "outlinewidth": 0,
             "ticks": ""
            },
            "colorscale": [
             [
              0,
              "#0d0887"
             ],
             [
              0.1111111111111111,
              "#46039f"
             ],
             [
              0.2222222222222222,
              "#7201a8"
             ],
             [
              0.3333333333333333,
              "#9c179e"
             ],
             [
              0.4444444444444444,
              "#bd3786"
             ],
             [
              0.5555555555555556,
              "#d8576b"
             ],
             [
              0.6666666666666666,
              "#ed7953"
             ],
             [
              0.7777777777777778,
              "#fb9f3a"
             ],
             [
              0.8888888888888888,
              "#fdca26"
             ],
             [
              1,
              "#f0f921"
             ]
            ],
            "type": "surface"
           }
          ],
          "table": [
           {
            "cells": {
             "fill": {
              "color": "#EBF0F8"
             },
             "line": {
              "color": "white"
             }
            },
            "header": {
             "fill": {
              "color": "#C8D4E3"
             },
             "line": {
              "color": "white"
             }
            },
            "type": "table"
           }
          ]
         },
         "layout": {
          "annotationdefaults": {
           "arrowcolor": "#2a3f5f",
           "arrowhead": 0,
           "arrowwidth": 1
          },
          "autotypenumbers": "strict",
          "coloraxis": {
           "colorbar": {
            "outlinewidth": 0,
            "ticks": ""
           }
          },
          "colorscale": {
           "diverging": [
            [
             0,
             "#8e0152"
            ],
            [
             0.1,
             "#c51b7d"
            ],
            [
             0.2,
             "#de77ae"
            ],
            [
             0.3,
             "#f1b6da"
            ],
            [
             0.4,
             "#fde0ef"
            ],
            [
             0.5,
             "#f7f7f7"
            ],
            [
             0.6,
             "#e6f5d0"
            ],
            [
             0.7,
             "#b8e186"
            ],
            [
             0.8,
             "#7fbc41"
            ],
            [
             0.9,
             "#4d9221"
            ],
            [
             1,
             "#276419"
            ]
           ],
           "sequential": [
            [
             0,
             "#0d0887"
            ],
            [
             0.1111111111111111,
             "#46039f"
            ],
            [
             0.2222222222222222,
             "#7201a8"
            ],
            [
             0.3333333333333333,
             "#9c179e"
            ],
            [
             0.4444444444444444,
             "#bd3786"
            ],
            [
             0.5555555555555556,
             "#d8576b"
            ],
            [
             0.6666666666666666,
             "#ed7953"
            ],
            [
             0.7777777777777778,
             "#fb9f3a"
            ],
            [
             0.8888888888888888,
             "#fdca26"
            ],
            [
             1,
             "#f0f921"
            ]
           ],
           "sequentialminus": [
            [
             0,
             "#0d0887"
            ],
            [
             0.1111111111111111,
             "#46039f"
            ],
            [
             0.2222222222222222,
             "#7201a8"
            ],
            [
             0.3333333333333333,
             "#9c179e"
            ],
            [
             0.4444444444444444,
             "#bd3786"
            ],
            [
             0.5555555555555556,
             "#d8576b"
            ],
            [
             0.6666666666666666,
             "#ed7953"
            ],
            [
             0.7777777777777778,
             "#fb9f3a"
            ],
            [
             0.8888888888888888,
             "#fdca26"
            ],
            [
             1,
             "#f0f921"
            ]
           ]
          },
          "colorway": [
           "#636efa",
           "#EF553B",
           "#00cc96",
           "#ab63fa",
           "#FFA15A",
           "#19d3f3",
           "#FF6692",
           "#B6E880",
           "#FF97FF",
           "#FECB52"
          ],
          "font": {
           "color": "#2a3f5f"
          },
          "geo": {
           "bgcolor": "white",
           "lakecolor": "white",
           "landcolor": "#E5ECF6",
           "showlakes": true,
           "showland": true,
           "subunitcolor": "white"
          },
          "hoverlabel": {
           "align": "left"
          },
          "hovermode": "closest",
          "mapbox": {
           "style": "light"
          },
          "paper_bgcolor": "white",
          "plot_bgcolor": "#E5ECF6",
          "polar": {
           "angularaxis": {
            "gridcolor": "white",
            "linecolor": "white",
            "ticks": ""
           },
           "bgcolor": "#E5ECF6",
           "radialaxis": {
            "gridcolor": "white",
            "linecolor": "white",
            "ticks": ""
           }
          },
          "scene": {
           "xaxis": {
            "backgroundcolor": "#E5ECF6",
            "gridcolor": "white",
            "gridwidth": 2,
            "linecolor": "white",
            "showbackground": true,
            "ticks": "",
            "zerolinecolor": "white"
           },
           "yaxis": {
            "backgroundcolor": "#E5ECF6",
            "gridcolor": "white",
            "gridwidth": 2,
            "linecolor": "white",
            "showbackground": true,
            "ticks": "",
            "zerolinecolor": "white"
           },
           "zaxis": {
            "backgroundcolor": "#E5ECF6",
            "gridcolor": "white",
            "gridwidth": 2,
            "linecolor": "white",
            "showbackground": true,
            "ticks": "",
            "zerolinecolor": "white"
           }
          },
          "shapedefaults": {
           "line": {
            "color": "#2a3f5f"
           }
          },
          "ternary": {
           "aaxis": {
            "gridcolor": "white",
            "linecolor": "white",
            "ticks": ""
           },
           "baxis": {
            "gridcolor": "white",
            "linecolor": "white",
            "ticks": ""
           },
           "bgcolor": "#E5ECF6",
           "caxis": {
            "gridcolor": "white",
            "linecolor": "white",
            "ticks": ""
           }
          },
          "title": {
           "x": 0.05
          },
          "xaxis": {
           "automargin": true,
           "gridcolor": "white",
           "linecolor": "white",
           "ticks": "",
           "title": {
            "standoff": 15
           },
           "zerolinecolor": "white",
           "zerolinewidth": 2
          },
          "yaxis": {
           "automargin": true,
           "gridcolor": "white",
           "linecolor": "white",
           "ticks": "",
           "title": {
            "standoff": 15
           },
           "zerolinecolor": "white",
           "zerolinewidth": 2
          }
         }
        },
        "title": {
         "text": "Atividades da VP de Energias Renováveis e Hidrogênio Verde"
        }
       }
      }
     },
     "metadata": {},
     "output_type": "display_data"
    }
   ],
   "source": [
    "# Agrupando tudo\n",
    "data_dicts = {\n",
    "    'Workshops': workshops,\n",
    "    'Projetos e Consultorias': projetos_consultorias,\n",
    "    'Chamadas de Capital': cashcalls,\n",
    "    'Planos de Negócio': planos_de_negocio,\n",
    "    'Agentes de IA': agentes_IA,\n",
    "    'Eventos': eventos\n",
    "}\n",
    "\n",
    "# Criando listas para o gráfico\n",
    "labels = []\n",
    "values = []\n",
    "hover_texts = []\n",
    "\n",
    "for nome_dict, dados in data_dicts.items():\n",
    "    labels.append(nome_dict)\n",
    "    values.append(len(dados))\n",
    "\n",
    "    resumo = \"\"\n",
    "    for chave, valor in dados.items():\n",
    "        # Workshops: têm data e responsável\n",
    "        if nome_dict == 'Workshops':\n",
    "            data = valor.get('data', 'N/A')\n",
    "            resp = valor.get('resp', 'N/A')\n",
    "            resumo += f\"• {chave}<br>&nbsp;&nbsp;&nbsp;&nbsp;- Data: {data}<br>&nbsp;&nbsp;&nbsp;&nbsp;- Responsável: {resp}<br>\"\n",
    "\n",
    "        # Eventos: têm data e local\n",
    "        elif nome_dict == 'Eventos':\n",
    "            data = valor.get('data', 'N/A')\n",
    "            local = valor.get('local', 'N/A')\n",
    "            resumo += f\"• {chave}<br>&nbsp;&nbsp;&nbsp;&nbsp;- Data: {data}<br>&nbsp;&nbsp;&nbsp;&nbsp;- Local: {local}<br>\"\n",
    "\n",
    "        # Agentes de IA: têm descrição e responsável\n",
    "        elif nome_dict == 'Agentes de IA':\n",
    "            desc = valor.get('desc', 'N/A')\n",
    "            resp = valor.get('resp', 'N/A')\n",
    "            resumo += f\"• {chave}<br>&nbsp;&nbsp;&nbsp;&nbsp;- Descrição: {desc}<br>&nbsp;&nbsp;&nbsp;&nbsp;- Responsável: {resp}<br>\"\n",
    "\n",
    "        # Planos de Negócio, Projetos e Consultorias, Chamadas de Capital: têm responsável\n",
    "        else:\n",
    "            resp = valor.get('resp', 'N/A')\n",
    "            resumo += f\"• {chave}<br>&nbsp;&nbsp;&nbsp;&nbsp;- Responsável: {resp}<br>\"\n",
    "    \n",
    "    hover_texts.append(f\"<b>{nome_dict}</b><br>{resumo}\")\n",
    "\n",
    "\n",
    "# Criando o gráfico\n",
    "fig = go.Figure(data=[go.Pie(\n",
    "    labels=labels,\n",
    "    values=values,\n",
    "    textinfo='label+percent',\n",
    "    hoverinfo='text',\n",
    "    hovertext=hover_texts,\n",
    "    insidetextorientation='radial'\n",
    ")])\n",
    "\n",
    "fig.update_traces(marker=dict(line=dict(color='#000000', width=1)))\n",
    "fig.update_layout(title='Atividades da VP de Energias Renováveis e Hidrogênio Verde', height=600)\n",
    "\n",
    "fig.show()\n",
    "fig.write_html(\"grafico_interativo.html\")\n"
   ]
  }
 ],
 "metadata": {
  "kernelspec": {
   "display_name": "base",
   "language": "python",
   "name": "python3"
  },
  "language_info": {
   "codemirror_mode": {
    "name": "ipython",
    "version": 3
   },
   "file_extension": ".py",
   "mimetype": "text/x-python",
   "name": "python",
   "nbconvert_exporter": "python",
   "pygments_lexer": "ipython3",
   "version": "3.11.5"
  }
 },
 "nbformat": 4,
 "nbformat_minor": 5
}
